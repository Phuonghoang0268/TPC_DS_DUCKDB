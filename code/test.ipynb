{
 "cells": [
  {
   "cell_type": "code",
   "id": "initial_id",
   "metadata": {
    "collapsed": true,
    "ExecuteTime": {
     "end_time": "2024-10-20T15:10:39.667364Z",
     "start_time": "2024-10-20T15:10:39.445285Z"
    }
   },
   "source": [
    "import duckdb\n",
    "from IPython.core.completerlib import import_re\n",
    "\n",
    "# Create an in-memory connection (you can also specify a file path to store the database)\n",
    "conn = duckdb.connect('/home/sakana/BDMA/DataWarehouse/TPC_DS.DB')\n",
    "cursor = conn.cursor()\n"
   ],
   "outputs": [],
   "execution_count": 1
  },
  {
   "metadata": {},
   "cell_type": "markdown",
   "source": "# CHECK WRONG QUERY TO FIX",
   "id": "5df5211d846a8240"
  },
  {
   "metadata": {
    "ExecuteTime": {
     "end_time": "2024-10-20T15:10:53.604809Z",
     "start_time": "2024-10-20T15:10:39.700200Z"
    }
   },
   "cell_type": "code",
   "source": [
    "except_files=[]\n",
    "import os\n",
    "list_query_file='../generated_queries/'\n",
    "for sql_file in os.listdir(list_query_file):\n",
    "    with open(list_query_file+sql_file,'r') as f:\n",
    "        query_line=f.read()\n",
    "        try:\n",
    "            cursor.execute(query_line)\n",
    "        except Exception as e:\n",
    "            except_files.append(sql_file)"
   ],
   "id": "8eb913ae5f4fd305",
   "outputs": [],
   "execution_count": 2
  },
  {
   "metadata": {
    "ExecuteTime": {
     "end_time": "2024-10-20T15:10:53.723935Z",
     "start_time": "2024-10-20T15:10:53.710486Z"
    }
   },
   "cell_type": "code",
   "source": "len(except_files)",
   "id": "eb2b31ee06ef269e",
   "outputs": [
    {
     "data": {
      "text/plain": [
       "12"
      ]
     },
     "execution_count": 3,
     "metadata": {},
     "output_type": "execute_result"
    }
   ],
   "execution_count": 3
  },
  {
   "metadata": {},
   "cell_type": "markdown",
   "source": "",
   "id": "4df648b014e0da6d"
  },
  {
   "metadata": {
    "ExecuteTime": {
     "end_time": "2024-10-17T18:46:15.292215Z",
     "start_time": "2024-10-17T18:46:15.273635Z"
    }
   },
   "cell_type": "code",
   "source": "except_files",
   "id": "a707147ba6a7188e",
   "outputs": [
    {
     "data": {
      "text/plain": [
       "['query_32.sql',\n",
       " 'query_7.sql',\n",
       " 'query_64.sql',\n",
       " 'query_25.sql',\n",
       " 'query_67.sql',\n",
       " 'query_98.sql',\n",
       " 'query_87.sql',\n",
       " 'query_6.sql',\n",
       " 'query_78.sql',\n",
       " 'query_17.sql',\n",
       " 'query_43.sql',\n",
       " 'query_86.sql',\n",
       " 'query_19.sql',\n",
       " 'query_14.sql',\n",
       " 'query_44.sql',\n",
       " 'query_31.sql',\n",
       " 'query_65.sql']"
      ]
     },
     "execution_count": 11,
     "metadata": {},
     "output_type": "execute_result"
    }
   ],
   "execution_count": 11
  },
  {
   "metadata": {},
   "cell_type": "markdown",
   "source": "# CHECK QUERY NOT RETURN VALUE",
   "id": "79ac38086d1c3491"
  },
  {
   "metadata": {
    "ExecuteTime": {
     "end_time": "2024-10-17T18:49:39.434716Z",
     "start_time": "2024-10-17T18:49:27.432779Z"
    }
   },
   "cell_type": "code",
   "source": [
    "value_null=[]\n",
    "import os\n",
    "list_query_file='../generated_queries/'\n",
    "for sql_file in os.listdir(list_query_file):\n",
    "    with open(list_query_file+sql_file,'r') as f:\n",
    "        query_line=f.read()\n",
    "        try:\n",
    "            cursor.execute(query_line)\n",
    "            first_value=cursor.fetchone()\n",
    "            if first_value is None:\n",
    "                value_null.append(sql_file)\n",
    "        except Exception as e:\n",
    "            print(e)"
   ],
   "id": "53bbd1ada2a9f295",
   "outputs": [
    {
     "name": "stdout",
     "output_type": "stream",
     "text": [
      "Parser Error: syntax error at or near \"days\"\n",
      "Parser Error: syntax error at or near \"days\"\n",
      "Parser Error: syntax error at or near \"days\"\n",
      "Parser Error: syntax error at or near \"days\"\n",
      "Parser Error: syntax error at or near \"days\"\n",
      "Parser Error: syntax error at or near \"days\"\n",
      "Binder Error: Ambiguous reference to column name \"d_week_seq\" (use: \"d3.d_week_seq\" or \"d1.d_week_seq\")\n",
      "Parser Error: syntax error at or near \"days\"\n",
      "Parser Error: syntax error at or near \"days\"\n",
      "Parser Error: syntax error at or near \"days\"\n",
      "Parser Error: syntax error at or near \"days\"\n",
      "Parser Error: syntax error at or near \"days\"\n",
      "Binder Error: Ambiguous reference to column name \"item_id\" (use: \"ws_items.item_id\" or \"ss_items.item_id\")\n",
      "Parser Error: syntax error at or near \"days\"\n",
      "Parser Error: syntax error at or near \"days\"\n",
      "Parser Error: syntax error at or near \"days\"\n",
      "Parser Error: syntax error at or near \"days\"\n"
     ]
    }
   ],
   "execution_count": 15
  },
  {
   "metadata": {
    "ExecuteTime": {
     "end_time": "2024-10-17T18:49:44.998219Z",
     "start_time": "2024-10-17T18:49:44.988633Z"
    }
   },
   "cell_type": "code",
   "source": "len(value_null)",
   "id": "d2f0b03bbc18796c",
   "outputs": [
    {
     "data": {
      "text/plain": [
       "7"
      ]
     },
     "execution_count": 16,
     "metadata": {},
     "output_type": "execute_result"
    }
   ],
   "execution_count": 16
  },
  {
   "metadata": {
    "ExecuteTime": {
     "end_time": "2024-10-17T18:50:02.284778Z",
     "start_time": "2024-10-17T18:50:02.274548Z"
    }
   },
   "cell_type": "code",
   "source": "value_null",
   "id": "7e9674fc795d4629",
   "outputs": [
    {
     "data": {
      "text/plain": [
       "['query_53.sql',\n",
       " 'query_63.sql',\n",
       " 'query_92.sql',\n",
       " 'query_4.sql',\n",
       " 'query_81.sql',\n",
       " 'query_68.sql',\n",
       " 'query_62.sql']"
      ]
     },
     "execution_count": 17,
     "metadata": {},
     "output_type": "execute_result"
    }
   ],
   "execution_count": 17
  }
 ],
 "metadata": {
  "kernelspec": {
   "display_name": "Python 3",
   "language": "python",
   "name": "python3"
  },
  "language_info": {
   "codemirror_mode": {
    "name": "ipython",
    "version": 2
   },
   "file_extension": ".py",
   "mimetype": "text/x-python",
   "name": "python",
   "nbconvert_exporter": "python",
   "pygments_lexer": "ipython2",
   "version": "2.7.6"
  }
 },
 "nbformat": 4,
 "nbformat_minor": 5
}
